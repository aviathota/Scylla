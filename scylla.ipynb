{
  "nbformat": 4,
  "nbformat_minor": 0,
  "metadata": {
    "colab": {
      "provenance": [],
      "gpuType": "T4"
    },
    "kernelspec": {
      "name": "python3",
      "display_name": "Python 3"
    },
    "language_info": {
      "name": "python"
    },
    "accelerator": "GPU"
  },
  "cells": [
    {
      "cell_type": "markdown",
      "source": [
        "The following lines will download the Kaggle dataset using our API token."
      ],
      "metadata": {
        "id": "VcSA4a7Spzjm"
      }
    },
    {
      "cell_type": "code",
      "execution_count": null,
      "metadata": {
        "id": "bf4MvvmFpW2q"
      },
      "outputs": [],
      "source": [
        "! pip install kaggle -q\n",
        "! mkdir ~/.kaggle\n",
        "! cp kaggle.json ~/.kaggle/\n",
        "! kaggle datasets download -d arevel/chess-games\n",
        "! unzip -qq /content/chess-games.zip"
      ]
    },
    {
      "cell_type": "markdown",
      "source": [
        "Here are all of the other modules that we'll need for our engine."
      ],
      "metadata": {
        "id": "k7BQHw5JrCTA"
      }
    },
    {
      "cell_type": "code",
      "source": [
        "! pip install chess -q\n",
        "! pip install numpy -q\n",
        "! pip install pandas -q\n",
        "! pip install torch -q"
      ],
      "metadata": {
        "id": "cF1JDe5ArH6l"
      },
      "execution_count": null,
      "outputs": []
    },
    {
      "cell_type": "code",
      "source": [
        "import chess\n",
        "import numpy as np\n",
        "import pandas as pd\n",
        "import torch\n",
        "import re\n",
        "import gc\n",
        "import torch.nn as nn\n",
        "import torch.nn.functional as F\n",
        "import torch.optim as optim\n",
        "\n",
        "from torch.utils.data import Dataset\n",
        "from torch.utils.data import DataLoader"
      ],
      "metadata": {
        "id": "S7Mgh8asr8kt"
      },
      "execution_count": null,
      "outputs": []
    },
    {
      "cell_type": "markdown",
      "source": [
        "Step 1: Preprocessing"
      ],
      "metadata": {
        "id": "T7TI0qU_sCb1"
      }
    },
    {
      "cell_type": "code",
      "source": [
        "letter_to_num = {\n",
        "    'a': 0,\n",
        "    'b': 1,\n",
        "    'c': 2,\n",
        "    'd': 3,\n",
        "    'e': 4,\n",
        "    'f': 5,\n",
        "    'g': 6,\n",
        "    'h': 7,\n",
        "}\n",
        "\n",
        "num_to_letter = {\n",
        "    0: 'a',\n",
        "    1: 'b',\n",
        "    2: 'c',\n",
        "    3: 'd',\n",
        "    4: 'e',\n",
        "    5: 'f',\n",
        "    6: 'g',\n",
        "    7: 'h',\n",
        "}"
      ],
      "metadata": {
        "id": "RjpF_rJ2sGiR"
      },
      "execution_count": null,
      "outputs": []
    },
    {
      "cell_type": "code",
      "source": [
        "def board_to_rep(board):\n",
        "  pieces = ['p', 'n', 'b', 'r', 'q', 'k']\n",
        "  layers = []\n",
        "\n",
        "  for piece in pieces:\n",
        "    layers.append(create_rep_layer(board, piece))\n",
        "\n",
        "  board_rep = np. stack(layers)\n",
        "  return layers"
      ],
      "metadata": {
        "id": "eM0NBeRjs9oU"
      },
      "execution_count": null,
      "outputs": []
    },
    {
      "cell_type": "code",
      "source": [
        "def create_rep_layer(board, type):\n",
        "  s = str(board)\n",
        "\n",
        "  s = re.sub(f'[^{type}{type.upper()} \\n]', '.', s)\n",
        "  s = re.sub(f'{type}', '-1', s)\n",
        "  s = re.sub(f'{type.upper()}', 1, s)\n",
        "  s = re.sub(f'\\.', '0', s)\n",
        "\n",
        "  matrix = []\n",
        "  for row in s.split('\\n'):\n",
        "    row = row.split(\" \")\n",
        "    row = [int(x) for x in row]\n",
        "    matrix.append(row)\n",
        "\n",
        "  return np.array(matrix)"
      ],
      "metadata": {
        "id": "Obz28zLItclo"
      },
      "execution_count": null,
      "outputs": []
    },
    {
      "cell_type": "code",
      "source": [
        "def move_to_rep(board, move):\n",
        "  board.push_san(move).uci()\n",
        "  move = str(board.pop())\n",
        "\n",
        "  pre_layer = np.zeros((8, 8))\n",
        "  pre_row = 8 - int(move[1])\n",
        "  pre_col = letter_to_num[move[0]]\n",
        "  pre_layer[pre_row, pre_col] = 1\n",
        "\n",
        "  post_layer = np.zeros((8, 8))\n",
        "  post_row = 8 - int(move[3])\n",
        "  post_col = letter_to_num[move[2]]\n",
        "  post_layer[post_row, post_col] = 1\n",
        "\n",
        "  return np.stack([pre_layer, post_layer])"
      ],
      "metadata": {
        "id": "EnlIdy2iuk_J"
      },
      "execution_count": null,
      "outputs": []
    },
    {
      "cell_type": "code",
      "source": [
        "def move_list(s):\n",
        "  return re.sub('\\d*\\. ', '', s).split(' ')[:-1]"
      ],
      "metadata": {
        "id": "thev2lO1vYq5"
      },
      "execution_count": null,
      "outputs": []
    },
    {
      "cell_type": "code",
      "source": [
        "# Grabbing higher-level games from the dataset.\n",
        "\n",
        "raw_data = pd.read_csv('/content/chess_games.csv', usecols=['AN', 'WhiteElo'])\n",
        "data = raw_data[raw_data['WhiteElo'] > 1800]\n",
        "del raw_data\n",
        "gc.collect()\n",
        "\n",
        "data = data[['AN']]\n",
        "data = data[-data['AN'].str.contains('{')]\n",
        "data = data[data['AN'].str.len() > 20]\n",
        "print(\"# Games:\", data.shape[0])\n"
      ],
      "metadata": {
        "id": "P0vVoMDhvr6O"
      },
      "execution_count": null,
      "outputs": []
    },
    {
      "cell_type": "markdown",
      "source": [
        "Part 2: Using PyTorch"
      ],
      "metadata": {
        "id": "2_yO229DreHP"
      }
    },
    {
      "cell_type": "code",
      "source": [
        "class CDataset(Dataset):\n",
        "\n",
        "  def __init__(self, games):\n",
        "    super(CDataset, self).__init__()\n",
        "    self.games = games\n",
        "\n",
        "  def __len__(self):\n",
        "    return 50_000\n",
        "\n",
        "  def __getitem__(self, idx):\n",
        "    game_i = np.random.randint(self.games.shape[0])\n",
        "    random_game = data['AN'].values[game_i]\n",
        "\n",
        "    moves = move_list(random_game)\n",
        "    game_state_i = np.random.randint(len(moves) - 1)\n",
        "    next = moves[game_state_i]\n",
        "    moves = moves[:game_state_i]\n",
        "    board = chess.Board()\n",
        "\n",
        "    for move in moves:\n",
        "      board.push_san(move)\n",
        "\n",
        "    x = board_to_rep(board)\n",
        "    y = move_to_rep(next, board)\n",
        "\n",
        "    if game_state_i % 2 == 1:\n",
        "      x *= -1\n",
        "\n",
        "    return x, y"
      ],
      "metadata": {
        "id": "7mqp2FE6rhPa"
      },
      "execution_count": null,
      "outputs": []
    },
    {
      "cell_type": "code",
      "source": [
        "data_train = CDataset(data['AN'])\n",
        "data_loader = DataLoader(data_train, batch_size = 32, shuffle = True, drop_last = True)"
      ],
      "metadata": {
        "id": "ytZGR75Lt823"
      },
      "execution_count": null,
      "outputs": []
    },
    {
      "cell_type": "code",
      "source": [
        "class module(nn.Module):\n",
        "\n",
        "  def __init__(self, sz):\n",
        "    super(module, self).__init__()\n",
        "    self.conv1 = nn.Conv2d(sz, sz, 3, stride = 1, padding = 1)\n",
        "    self.conv2 = nn.Conv2d(sz, sz, 3, stride = 1, padding = 1)\n",
        "    self.bn1 = nn.BatchNorm2d(sz)\n",
        "    self.bn2 = nn.BatchNorm2d(sz)\n",
        "    self.activation1 = nn.SELU()\n",
        "    self.activation2 = nn.SELU()\n",
        "\n",
        "  def forward(self, x):\n",
        "    x_inp = torch.clone()\n",
        "    x = self.conv1(x)\n",
        "    x = self.bn1(x)\n",
        "    x = self.activation1(x)\n",
        "    x = self.conv2(x)\n",
        "    x = self.bn2(x)\n",
        "    x = x + x_inp\n",
        "    x = self.activation2(x)\n",
        "    return x"
      ],
      "metadata": {
        "id": "RAo7LrVVwn03"
      },
      "execution_count": null,
      "outputs": []
    },
    {
      "cell_type": "code",
      "source": [
        "class ChessNet(nn.Module):\n",
        "  def __init__(self, hidden_layers = 4, hidden_size = 200):\n",
        "    super(ChessNet, self).__init__()\n",
        "    self.hidden_layers = hidden_layers\n",
        "    self.input_layer = nn.Conv2d(6, hidden_size, 3, stride = 1, padding = 1)\n",
        "    self.module_list = nn.ModuleList([module(hidden_size) for i in range(hidden_layers)])\n",
        "    self.output_layer = nn.Conv2d(hidden_size, 2, 3, stride = 1, padding = 1)\n",
        "\n",
        "  def forward(self, x):\n",
        "    x = self.input_layer(x)\n",
        "    x = F.relu(x)\n",
        "\n",
        "    for i in range(self.hidden_layers):\n",
        "      x = self.module_list[i](x)\n",
        "\n",
        "    x = self.output_layer(x)\n",
        "\n",
        "    return x"
      ],
      "metadata": {
        "id": "OR9uYyZSyP2T"
      },
      "execution_count": null,
      "outputs": []
    },
    {
      "cell_type": "markdown",
      "source": [
        "Now, this is where the magic happens."
      ],
      "metadata": {
        "id": "Q7w4fD8a0j13"
      }
    },
    {
      "cell_type": "code",
      "source": [
        "model = ChessNet()\n",
        "criterion = nn.CrossEntropyLoss()\n",
        "print_interval = 100\n",
        "\n",
        "optimizer = optim.Adam(model.parameters(), lr=0.001)\n",
        "\n",
        "num_epochs = 50\n",
        "for epoch in range(num_epochs):\n",
        "    for batch_idx, (inputs, targets) in enumerate(data_loader):\n",
        "        optimizer.zero_grad()\n",
        "        outputs = model(inputs)\n",
        "        loss = criterion(outputs, targets)\n",
        "        loss.backward()\n",
        "        optimizer.step()\n",
        "\n",
        "        if batch_idx % print_interval == 0:\n",
        "            print(f\"Epoch [{epoch+1}/{num_epochs}], Batch [{batch_idx+1}/{len(data_loader)}], Loss: {loss.item()}\")"
      ],
      "metadata": {
        "id": "TCyofGHL0n4K"
      },
      "execution_count": null,
      "outputs": []
    }
  ]
}